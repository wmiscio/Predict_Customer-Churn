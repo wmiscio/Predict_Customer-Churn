{
 "cells": [
  {
   "cell_type": "markdown",
   "metadata": {},
   "source": [
    "# Definição do Problema de Negócio:\n",
    "\n",
    "Customer Churn (ou Rotatividade de Clientes, em uma tradução livre)\n",
    "refere-se a uma decisão tomada pelo cliente sobre o término do relacionamento\n",
    "comercial. Refere-se também à perda de clientes. A fidelidade do cliente e a\n",
    "rotatividade de clientes sempre somam 100%. Se uma empresa tem uma taxa de\n",
    "fidelidade de 60%, então a taxa de perda de clientes é de 40%. De acordo com a\n",
    "regra de lucratividade do cliente 80/20, 20% dos clientes estão gerando 80% da\n",
    "receita. Portanto, é muito importante prever os usuários que provavelmente\n",
    "abandonarão o relacionamento comercial e os fatores que afetam as decisões do\n",
    "cliente.\n",
    "Neste projeto, você deve prever o Customer Churn em uma Operadora de\n",
    "Telecom."
   ]
  },
  {
   "cell_type": "markdown",
   "metadata": {},
   "source": [
    "Importanto os pacotes necessários para a execução do projeto"
   ]
  },
  {
   "cell_type": "code",
   "execution_count": 152,
   "metadata": {},
   "outputs": [],
   "source": [
    "import sklearn as sl\n",
    "import warnings\n",
    "import pandas as pd\n",
    "from sklearn.preprocessing import MinMaxScaler\n",
    "from sklearn.decomposition import PCA\n",
    "import matplotlib.pyplot as plt\n",
    "from sklearn.model_selection import KFold\n",
    "from sklearn.model_selection import cross_val_score\n",
    "from sklearn.linear_model import LogisticRegression\n",
    "from sklearn.tree import DecisionTreeClassifier\n",
    "from sklearn.neighbors import KNeighborsClassifier\n",
    "from sklearn.discriminant_analysis import LinearDiscriminantAnalysis\n",
    "from sklearn.naive_bayes import GaussianNB\n",
    "from sklearn.svm import SVC\n",
    "from pandas import read_csv\n",
    "from sklearn.preprocessing import MinMaxScaler\n",
    "from sklearn.decomposition import PCA\n",
    "from sklearn.model_selection import train_test_split\n",
    "from sklearn.linear_model import LogisticRegression\n",
    "from sklearn.feature_selection import RFE\n",
    "import pickle\n",
    "import warnings\n",
    "from sklearn.metrics import confusion_matrix\n",
    "from sklearn.utils import resample\n",
    "warnings.simplefilter(action='ignore', category=FutureWarning)"
   ]
  },
  {
   "cell_type": "markdown",
   "metadata": {},
   "source": [
    "Leitura da base de treino"
   ]
  },
  {
   "cell_type": "code",
   "execution_count": 8,
   "metadata": {},
   "outputs": [],
   "source": [
    "#Leitura do arquivo\n",
    "df_churn = pd.read_csv(\"projeto4_telecom_treino.csv\")"
   ]
  },
  {
   "cell_type": "markdown",
   "metadata": {},
   "source": [
    "Visualizar um sample da base de treino"
   ]
  },
  {
   "cell_type": "code",
   "execution_count": 9,
   "metadata": {},
   "outputs": [
    {
     "data": {
      "text/html": [
       "<div>\n",
       "<style scoped>\n",
       "    .dataframe tbody tr th:only-of-type {\n",
       "        vertical-align: middle;\n",
       "    }\n",
       "\n",
       "    .dataframe tbody tr th {\n",
       "        vertical-align: top;\n",
       "    }\n",
       "\n",
       "    .dataframe thead th {\n",
       "        text-align: right;\n",
       "    }\n",
       "</style>\n",
       "<table border=\"1\" class=\"dataframe\">\n",
       "  <thead>\n",
       "    <tr style=\"text-align: right;\">\n",
       "      <th></th>\n",
       "      <th>Unnamed: 0</th>\n",
       "      <th>state</th>\n",
       "      <th>account_length</th>\n",
       "      <th>area_code</th>\n",
       "      <th>international_plan</th>\n",
       "      <th>voice_mail_plan</th>\n",
       "      <th>number_vmail_messages</th>\n",
       "      <th>total_day_minutes</th>\n",
       "      <th>total_day_calls</th>\n",
       "      <th>total_day_charge</th>\n",
       "      <th>...</th>\n",
       "      <th>total_eve_calls</th>\n",
       "      <th>total_eve_charge</th>\n",
       "      <th>total_night_minutes</th>\n",
       "      <th>total_night_calls</th>\n",
       "      <th>total_night_charge</th>\n",
       "      <th>total_intl_minutes</th>\n",
       "      <th>total_intl_calls</th>\n",
       "      <th>total_intl_charge</th>\n",
       "      <th>number_customer_service_calls</th>\n",
       "      <th>churn</th>\n",
       "    </tr>\n",
       "  </thead>\n",
       "  <tbody>\n",
       "    <tr>\n",
       "      <th>0</th>\n",
       "      <td>1</td>\n",
       "      <td>KS</td>\n",
       "      <td>128</td>\n",
       "      <td>area_code_415</td>\n",
       "      <td>no</td>\n",
       "      <td>yes</td>\n",
       "      <td>25</td>\n",
       "      <td>265.1</td>\n",
       "      <td>110</td>\n",
       "      <td>45.07</td>\n",
       "      <td>...</td>\n",
       "      <td>99</td>\n",
       "      <td>16.78</td>\n",
       "      <td>244.7</td>\n",
       "      <td>91</td>\n",
       "      <td>11.01</td>\n",
       "      <td>10.0</td>\n",
       "      <td>3</td>\n",
       "      <td>2.70</td>\n",
       "      <td>1</td>\n",
       "      <td>no</td>\n",
       "    </tr>\n",
       "    <tr>\n",
       "      <th>1</th>\n",
       "      <td>2</td>\n",
       "      <td>OH</td>\n",
       "      <td>107</td>\n",
       "      <td>area_code_415</td>\n",
       "      <td>no</td>\n",
       "      <td>yes</td>\n",
       "      <td>26</td>\n",
       "      <td>161.6</td>\n",
       "      <td>123</td>\n",
       "      <td>27.47</td>\n",
       "      <td>...</td>\n",
       "      <td>103</td>\n",
       "      <td>16.62</td>\n",
       "      <td>254.4</td>\n",
       "      <td>103</td>\n",
       "      <td>11.45</td>\n",
       "      <td>13.7</td>\n",
       "      <td>3</td>\n",
       "      <td>3.70</td>\n",
       "      <td>1</td>\n",
       "      <td>no</td>\n",
       "    </tr>\n",
       "    <tr>\n",
       "      <th>2</th>\n",
       "      <td>3</td>\n",
       "      <td>NJ</td>\n",
       "      <td>137</td>\n",
       "      <td>area_code_415</td>\n",
       "      <td>no</td>\n",
       "      <td>no</td>\n",
       "      <td>0</td>\n",
       "      <td>243.4</td>\n",
       "      <td>114</td>\n",
       "      <td>41.38</td>\n",
       "      <td>...</td>\n",
       "      <td>110</td>\n",
       "      <td>10.30</td>\n",
       "      <td>162.6</td>\n",
       "      <td>104</td>\n",
       "      <td>7.32</td>\n",
       "      <td>12.2</td>\n",
       "      <td>5</td>\n",
       "      <td>3.29</td>\n",
       "      <td>0</td>\n",
       "      <td>no</td>\n",
       "    </tr>\n",
       "    <tr>\n",
       "      <th>3</th>\n",
       "      <td>4</td>\n",
       "      <td>OH</td>\n",
       "      <td>84</td>\n",
       "      <td>area_code_408</td>\n",
       "      <td>yes</td>\n",
       "      <td>no</td>\n",
       "      <td>0</td>\n",
       "      <td>299.4</td>\n",
       "      <td>71</td>\n",
       "      <td>50.90</td>\n",
       "      <td>...</td>\n",
       "      <td>88</td>\n",
       "      <td>5.26</td>\n",
       "      <td>196.9</td>\n",
       "      <td>89</td>\n",
       "      <td>8.86</td>\n",
       "      <td>6.6</td>\n",
       "      <td>7</td>\n",
       "      <td>1.78</td>\n",
       "      <td>2</td>\n",
       "      <td>no</td>\n",
       "    </tr>\n",
       "    <tr>\n",
       "      <th>4</th>\n",
       "      <td>5</td>\n",
       "      <td>OK</td>\n",
       "      <td>75</td>\n",
       "      <td>area_code_415</td>\n",
       "      <td>yes</td>\n",
       "      <td>no</td>\n",
       "      <td>0</td>\n",
       "      <td>166.7</td>\n",
       "      <td>113</td>\n",
       "      <td>28.34</td>\n",
       "      <td>...</td>\n",
       "      <td>122</td>\n",
       "      <td>12.61</td>\n",
       "      <td>186.9</td>\n",
       "      <td>121</td>\n",
       "      <td>8.41</td>\n",
       "      <td>10.1</td>\n",
       "      <td>3</td>\n",
       "      <td>2.73</td>\n",
       "      <td>3</td>\n",
       "      <td>no</td>\n",
       "    </tr>\n",
       "    <tr>\n",
       "      <th>5</th>\n",
       "      <td>6</td>\n",
       "      <td>AL</td>\n",
       "      <td>118</td>\n",
       "      <td>area_code_510</td>\n",
       "      <td>yes</td>\n",
       "      <td>no</td>\n",
       "      <td>0</td>\n",
       "      <td>223.4</td>\n",
       "      <td>98</td>\n",
       "      <td>37.98</td>\n",
       "      <td>...</td>\n",
       "      <td>101</td>\n",
       "      <td>18.75</td>\n",
       "      <td>203.9</td>\n",
       "      <td>118</td>\n",
       "      <td>9.18</td>\n",
       "      <td>6.3</td>\n",
       "      <td>6</td>\n",
       "      <td>1.70</td>\n",
       "      <td>0</td>\n",
       "      <td>no</td>\n",
       "    </tr>\n",
       "    <tr>\n",
       "      <th>6</th>\n",
       "      <td>7</td>\n",
       "      <td>MA</td>\n",
       "      <td>121</td>\n",
       "      <td>area_code_510</td>\n",
       "      <td>no</td>\n",
       "      <td>yes</td>\n",
       "      <td>24</td>\n",
       "      <td>218.2</td>\n",
       "      <td>88</td>\n",
       "      <td>37.09</td>\n",
       "      <td>...</td>\n",
       "      <td>108</td>\n",
       "      <td>29.62</td>\n",
       "      <td>212.6</td>\n",
       "      <td>118</td>\n",
       "      <td>9.57</td>\n",
       "      <td>7.5</td>\n",
       "      <td>7</td>\n",
       "      <td>2.03</td>\n",
       "      <td>3</td>\n",
       "      <td>no</td>\n",
       "    </tr>\n",
       "    <tr>\n",
       "      <th>7</th>\n",
       "      <td>8</td>\n",
       "      <td>MO</td>\n",
       "      <td>147</td>\n",
       "      <td>area_code_415</td>\n",
       "      <td>yes</td>\n",
       "      <td>no</td>\n",
       "      <td>0</td>\n",
       "      <td>157.0</td>\n",
       "      <td>79</td>\n",
       "      <td>26.69</td>\n",
       "      <td>...</td>\n",
       "      <td>94</td>\n",
       "      <td>8.76</td>\n",
       "      <td>211.8</td>\n",
       "      <td>96</td>\n",
       "      <td>9.53</td>\n",
       "      <td>7.1</td>\n",
       "      <td>6</td>\n",
       "      <td>1.92</td>\n",
       "      <td>0</td>\n",
       "      <td>no</td>\n",
       "    </tr>\n",
       "    <tr>\n",
       "      <th>8</th>\n",
       "      <td>9</td>\n",
       "      <td>LA</td>\n",
       "      <td>117</td>\n",
       "      <td>area_code_408</td>\n",
       "      <td>no</td>\n",
       "      <td>no</td>\n",
       "      <td>0</td>\n",
       "      <td>184.5</td>\n",
       "      <td>97</td>\n",
       "      <td>31.37</td>\n",
       "      <td>...</td>\n",
       "      <td>80</td>\n",
       "      <td>29.89</td>\n",
       "      <td>215.8</td>\n",
       "      <td>90</td>\n",
       "      <td>9.71</td>\n",
       "      <td>8.7</td>\n",
       "      <td>4</td>\n",
       "      <td>2.35</td>\n",
       "      <td>1</td>\n",
       "      <td>no</td>\n",
       "    </tr>\n",
       "    <tr>\n",
       "      <th>9</th>\n",
       "      <td>10</td>\n",
       "      <td>WV</td>\n",
       "      <td>141</td>\n",
       "      <td>area_code_415</td>\n",
       "      <td>yes</td>\n",
       "      <td>yes</td>\n",
       "      <td>37</td>\n",
       "      <td>258.6</td>\n",
       "      <td>84</td>\n",
       "      <td>43.96</td>\n",
       "      <td>...</td>\n",
       "      <td>111</td>\n",
       "      <td>18.87</td>\n",
       "      <td>326.4</td>\n",
       "      <td>97</td>\n",
       "      <td>14.69</td>\n",
       "      <td>11.2</td>\n",
       "      <td>5</td>\n",
       "      <td>3.02</td>\n",
       "      <td>0</td>\n",
       "      <td>no</td>\n",
       "    </tr>\n",
       "  </tbody>\n",
       "</table>\n",
       "<p>10 rows × 21 columns</p>\n",
       "</div>"
      ],
      "text/plain": [
       "   Unnamed: 0 state  account_length      area_code international_plan  \\\n",
       "0           1    KS             128  area_code_415                 no   \n",
       "1           2    OH             107  area_code_415                 no   \n",
       "2           3    NJ             137  area_code_415                 no   \n",
       "3           4    OH              84  area_code_408                yes   \n",
       "4           5    OK              75  area_code_415                yes   \n",
       "5           6    AL             118  area_code_510                yes   \n",
       "6           7    MA             121  area_code_510                 no   \n",
       "7           8    MO             147  area_code_415                yes   \n",
       "8           9    LA             117  area_code_408                 no   \n",
       "9          10    WV             141  area_code_415                yes   \n",
       "\n",
       "  voice_mail_plan  number_vmail_messages  total_day_minutes  total_day_calls  \\\n",
       "0             yes                     25              265.1              110   \n",
       "1             yes                     26              161.6              123   \n",
       "2              no                      0              243.4              114   \n",
       "3              no                      0              299.4               71   \n",
       "4              no                      0              166.7              113   \n",
       "5              no                      0              223.4               98   \n",
       "6             yes                     24              218.2               88   \n",
       "7              no                      0              157.0               79   \n",
       "8              no                      0              184.5               97   \n",
       "9             yes                     37              258.6               84   \n",
       "\n",
       "   total_day_charge  ...  total_eve_calls  total_eve_charge  \\\n",
       "0             45.07  ...               99             16.78   \n",
       "1             27.47  ...              103             16.62   \n",
       "2             41.38  ...              110             10.30   \n",
       "3             50.90  ...               88              5.26   \n",
       "4             28.34  ...              122             12.61   \n",
       "5             37.98  ...              101             18.75   \n",
       "6             37.09  ...              108             29.62   \n",
       "7             26.69  ...               94              8.76   \n",
       "8             31.37  ...               80             29.89   \n",
       "9             43.96  ...              111             18.87   \n",
       "\n",
       "   total_night_minutes  total_night_calls  total_night_charge  \\\n",
       "0                244.7                 91               11.01   \n",
       "1                254.4                103               11.45   \n",
       "2                162.6                104                7.32   \n",
       "3                196.9                 89                8.86   \n",
       "4                186.9                121                8.41   \n",
       "5                203.9                118                9.18   \n",
       "6                212.6                118                9.57   \n",
       "7                211.8                 96                9.53   \n",
       "8                215.8                 90                9.71   \n",
       "9                326.4                 97               14.69   \n",
       "\n",
       "   total_intl_minutes  total_intl_calls  total_intl_charge  \\\n",
       "0                10.0                 3               2.70   \n",
       "1                13.7                 3               3.70   \n",
       "2                12.2                 5               3.29   \n",
       "3                 6.6                 7               1.78   \n",
       "4                10.1                 3               2.73   \n",
       "5                 6.3                 6               1.70   \n",
       "6                 7.5                 7               2.03   \n",
       "7                 7.1                 6               1.92   \n",
       "8                 8.7                 4               2.35   \n",
       "9                11.2                 5               3.02   \n",
       "\n",
       "   number_customer_service_calls  churn  \n",
       "0                              1     no  \n",
       "1                              1     no  \n",
       "2                              0     no  \n",
       "3                              2     no  \n",
       "4                              3     no  \n",
       "5                              0     no  \n",
       "6                              3     no  \n",
       "7                              0     no  \n",
       "8                              1     no  \n",
       "9                              0     no  \n",
       "\n",
       "[10 rows x 21 columns]"
      ]
     },
     "execution_count": 9,
     "metadata": {},
     "output_type": "execute_result"
    }
   ],
   "source": [
    "df_churn.head(10)"
   ]
  },
  {
   "cell_type": "markdown",
   "metadata": {},
   "source": [
    "# Análise Exploratória de Dados\n"
   ]
  },
  {
   "cell_type": "markdown",
   "metadata": {},
   "source": [
    "Verificando o tipo das colunas"
   ]
  },
  {
   "cell_type": "code",
   "execution_count": 18,
   "metadata": {},
   "outputs": [
    {
     "data": {
      "text/plain": [
       "Unnamed: 0                         int64\n",
       "state                             object\n",
       "account_length                     int64\n",
       "area_code                         object\n",
       "international_plan                object\n",
       "voice_mail_plan                   object\n",
       "number_vmail_messages              int64\n",
       "total_day_minutes                float64\n",
       "total_day_calls                    int64\n",
       "total_day_charge                 float64\n",
       "total_eve_minutes                float64\n",
       "total_eve_calls                    int64\n",
       "total_eve_charge                 float64\n",
       "total_night_minutes              float64\n",
       "total_night_calls                  int64\n",
       "total_night_charge               float64\n",
       "total_intl_minutes               float64\n",
       "total_intl_calls                   int64\n",
       "total_intl_charge                float64\n",
       "number_customer_service_calls      int64\n",
       "churn                             object\n",
       "dtype: object"
      ]
     },
     "execution_count": 18,
     "metadata": {},
     "output_type": "execute_result"
    }
   ],
   "source": [
    "df_churn.dtypes"
   ]
  },
  {
   "cell_type": "markdown",
   "metadata": {},
   "source": [
    "Verificando as variaveis que são String (Quantidade de observação em cada tipo)"
   ]
  },
  {
   "cell_type": "code",
   "execution_count": 10,
   "metadata": {},
   "outputs": [
    {
     "data": {
      "text/plain": [
       "state\n",
       "AK     52\n",
       "AL     80\n",
       "AR     55\n",
       "AZ     64\n",
       "CA     34\n",
       "CO     66\n",
       "CT     74\n",
       "DC     54\n",
       "DE     61\n",
       "FL     63\n",
       "GA     54\n",
       "HI     53\n",
       "IA     44\n",
       "ID     73\n",
       "IL     58\n",
       "IN     71\n",
       "KS     70\n",
       "KY     59\n",
       "LA     51\n",
       "MA     65\n",
       "MD     70\n",
       "ME     62\n",
       "MI     73\n",
       "MN     84\n",
       "MO     63\n",
       "MS     65\n",
       "MT     68\n",
       "NC     68\n",
       "ND     62\n",
       "NE     61\n",
       "NH     56\n",
       "NJ     68\n",
       "NM     62\n",
       "NV     66\n",
       "NY     83\n",
       "OH     78\n",
       "OK     61\n",
       "OR     78\n",
       "PA     45\n",
       "RI     65\n",
       "SC     60\n",
       "SD     60\n",
       "TN     53\n",
       "TX     72\n",
       "UT     72\n",
       "VA     77\n",
       "VT     73\n",
       "WA     66\n",
       "WI     78\n",
       "WV    106\n",
       "WY     77\n",
       "dtype: int64"
      ]
     },
     "execution_count": 10,
     "metadata": {},
     "output_type": "execute_result"
    }
   ],
   "source": [
    "df_churn.groupby(\"state\").size()"
   ]
  },
  {
   "cell_type": "code",
   "execution_count": 11,
   "metadata": {},
   "outputs": [
    {
     "data": {
      "text/plain": [
       "area_code\n",
       "area_code_408     838\n",
       "area_code_415    1655\n",
       "area_code_510     840\n",
       "dtype: int64"
      ]
     },
     "execution_count": 11,
     "metadata": {},
     "output_type": "execute_result"
    }
   ],
   "source": [
    "df_churn.groupby(\"area_code\").size()"
   ]
  },
  {
   "cell_type": "code",
   "execution_count": 12,
   "metadata": {},
   "outputs": [
    {
     "data": {
      "text/plain": [
       "international_plan\n",
       "no     3010\n",
       "yes     323\n",
       "dtype: int64"
      ]
     },
     "execution_count": 12,
     "metadata": {},
     "output_type": "execute_result"
    }
   ],
   "source": [
    "df_churn.groupby(\"international_plan\").size()"
   ]
  },
  {
   "cell_type": "code",
   "execution_count": 13,
   "metadata": {},
   "outputs": [
    {
     "data": {
      "text/plain": [
       "voice_mail_plan\n",
       "no     2411\n",
       "yes     922\n",
       "dtype: int64"
      ]
     },
     "execution_count": 13,
     "metadata": {},
     "output_type": "execute_result"
    }
   ],
   "source": [
    "df_churn.groupby(\"voice_mail_plan\").size()"
   ]
  },
  {
   "cell_type": "code",
   "execution_count": 47,
   "metadata": {},
   "outputs": [
    {
     "data": {
      "text/plain": [
       "churn\n",
       "no     2850\n",
       "yes     483\n",
       "dtype: int64"
      ]
     },
     "execution_count": 47,
     "metadata": {},
     "output_type": "execute_result"
    }
   ],
   "source": [
    "df_churn.groupby(\"churn\").size()"
   ]
  },
  {
   "cell_type": "code",
   "execution_count": null,
   "metadata": {},
   "outputs": [],
   "source": []
  },
  {
   "cell_type": "code",
   "execution_count": null,
   "metadata": {},
   "outputs": [],
   "source": []
  },
  {
   "cell_type": "markdown",
   "metadata": {},
   "source": [
    "# Pré-Processamento"
   ]
  },
  {
   "cell_type": "code",
   "execution_count": null,
   "metadata": {},
   "outputs": [],
   "source": [
    "Transformando cada uma das strings da variável state para um ID"
   ]
  },
  {
   "cell_type": "code",
   "execution_count": 23,
   "metadata": {},
   "outputs": [],
   "source": [
    "df_churn['id_state'] = pd.factorize(df_churn.state)[0]"
   ]
  },
  {
   "cell_type": "code",
   "execution_count": 32,
   "metadata": {},
   "outputs": [
    {
     "data": {
      "text/plain": [
       "state  id_state\n",
       "AK     28           52\n",
       "AL     4            80\n",
       "AR     30           55\n",
       "AZ     20           64\n",
       "CA     36           34\n",
       "CO     19           66\n",
       "CT     49           74\n",
       "DC     43           54\n",
       "DE     34           61\n",
       "FL     18           63\n",
       "GA     27           54\n",
       "HI     24           53\n",
       "IA     11           44\n",
       "ID     14           73\n",
       "IL     25           58\n",
       "IN     9            71\n",
       "KS     0            70\n",
       "KY     44           59\n",
       "LA     7            51\n",
       "MA     5            65\n",
       "MD     29           70\n",
       "ME     45           62\n",
       "MI     33           73\n",
       "MN     37           84\n",
       "MO     6            63\n",
       "MS     46           65\n",
       "MT     12           68\n",
       "NC     39           68\n",
       "ND     50           62\n",
       "NE     22           61\n",
       "NH     26           56\n",
       "NJ     2            68\n",
       "NM     41           62\n",
       "NV     42           66\n",
       "NY     13           83\n",
       "OH     1            78\n",
       "OK     3            61\n",
       "OR     32           78\n",
       "PA     48           45\n",
       "RI     10           65\n",
       "SC     21           60\n",
       "SD     38           60\n",
       "TN     47           53\n",
       "TX     17           72\n",
       "UT     35           72\n",
       "VA     16           77\n",
       "VT     15           73\n",
       "WA     40           66\n",
       "WI     31           78\n",
       "WV     8           106\n",
       "WY     23           77\n",
       "dtype: int64"
      ]
     },
     "execution_count": 32,
     "metadata": {},
     "output_type": "execute_result"
    }
   ],
   "source": [
    "df_churn.groupby([\"state\",\"id_state\"]).size()"
   ]
  },
  {
   "cell_type": "code",
   "execution_count": 34,
   "metadata": {},
   "outputs": [],
   "source": [
    "df_churn['area_code_408'] = df_churn['area_code'].apply(lambda x : 1 if x == 'area_code_408' else 0)\n",
    "df_churn['area_code_415'] = df_churn['area_code'].apply(lambda x : 1 if x == 'area_code_415' else 0)\n",
    "df_churn['area_code_510'] = df_churn['area_code'].apply(lambda x : 1 if x == 'area_code_510' else 0)"
   ]
  },
  {
   "cell_type": "code",
   "execution_count": 38,
   "metadata": {},
   "outputs": [
    {
     "data": {
      "text/plain": [
       "area_code_408\n",
       "0    2495\n",
       "1     838\n",
       "dtype: int64"
      ]
     },
     "execution_count": 38,
     "metadata": {},
     "output_type": "execute_result"
    }
   ],
   "source": [
    "df_churn.groupby('area_code_408').size()"
   ]
  },
  {
   "cell_type": "code",
   "execution_count": 39,
   "metadata": {},
   "outputs": [
    {
     "data": {
      "text/plain": [
       "area_code_415\n",
       "0    1678\n",
       "1    1655\n",
       "dtype: int64"
      ]
     },
     "execution_count": 39,
     "metadata": {},
     "output_type": "execute_result"
    }
   ],
   "source": [
    "df_churn.groupby('area_code_415').size()"
   ]
  },
  {
   "cell_type": "code",
   "execution_count": 40,
   "metadata": {},
   "outputs": [
    {
     "data": {
      "text/plain": [
       "area_code_510\n",
       "0    2493\n",
       "1     840\n",
       "dtype: int64"
      ]
     },
     "execution_count": 40,
     "metadata": {},
     "output_type": "execute_result"
    }
   ],
   "source": [
    "df_churn.groupby('area_code_510').size()"
   ]
  },
  {
   "cell_type": "code",
   "execution_count": 41,
   "metadata": {},
   "outputs": [],
   "source": [
    "df_churn['id_international_plan'] = df_churn['international_plan'].apply(lambda x : 1 if x == 'yes' else 0)"
   ]
  },
  {
   "cell_type": "code",
   "execution_count": 42,
   "metadata": {},
   "outputs": [
    {
     "data": {
      "text/plain": [
       "international_plan  id_international_plan\n",
       "no                  0                        3010\n",
       "yes                 1                         323\n",
       "dtype: int64"
      ]
     },
     "execution_count": 42,
     "metadata": {},
     "output_type": "execute_result"
    }
   ],
   "source": [
    "df_churn.groupby([\"international_plan\",\"id_international_plan\"]).size()"
   ]
  },
  {
   "cell_type": "code",
   "execution_count": 43,
   "metadata": {},
   "outputs": [],
   "source": [
    "df_churn['id_voice_mail_plann'] = df_churn['voice_mail_plan'].apply(lambda x : 1 if x == 'yes' else 0)"
   ]
  },
  {
   "cell_type": "code",
   "execution_count": 46,
   "metadata": {},
   "outputs": [
    {
     "data": {
      "text/plain": [
       "voice_mail_plan  id_voice_mail_plann\n",
       "no               0                      2411\n",
       "yes              1                       922\n",
       "dtype: int64"
      ]
     },
     "execution_count": 46,
     "metadata": {},
     "output_type": "execute_result"
    }
   ],
   "source": [
    "df_churn.groupby([\"voice_mail_plan\",\"id_voice_mail_plann\"]).size()"
   ]
  },
  {
   "cell_type": "code",
   "execution_count": 48,
   "metadata": {},
   "outputs": [],
   "source": [
    "df_churn['class'] = df_churn['churn'].apply(lambda x : 1 if x == 'yes' else 0)"
   ]
  },
  {
   "cell_type": "code",
   "execution_count": 49,
   "metadata": {},
   "outputs": [
    {
     "data": {
      "text/plain": [
       "churn  class\n",
       "no     0        2850\n",
       "yes    1         483\n",
       "dtype: int64"
      ]
     },
     "execution_count": 49,
     "metadata": {},
     "output_type": "execute_result"
    }
   ],
   "source": [
    "df_churn.groupby([\"churn\",\"class\"]).size()"
   ]
  },
  {
   "cell_type": "code",
   "execution_count": null,
   "metadata": {},
   "outputs": [],
   "source": [
    "Unnamed: 0                         int64\n",
    "state                             object\n",
    "account_length                     int64\n",
    "area_code                         object\n",
    "international_plan                object\n",
    "voice_mail_plan                   object\n",
    "number_vmail_messages              int64\n",
    "total_day_minutes                float64\n",
    "total_day_calls                    int64\n",
    "total_day_charge                 float64\n",
    "total_eve_minutes                float64\n",
    "total_eve_calls                    int64\n",
    "total_eve_charge                 float64\n",
    "total_night_minutes              float64\n",
    "total_night_calls                  int64\n",
    "total_night_charge               float64\n",
    "total_intl_minutes               float64\n",
    "total_intl_calls                   int64\n",
    "total_intl_charge                float64\n",
    "number_customer_service_calls      int64\n",
    "churn                             object"
   ]
  },
  {
   "cell_type": "code",
   "execution_count": 120,
   "metadata": {},
   "outputs": [],
   "source": [
    "df_churn_transf = df_churn[[\"account_length\", \"account_length\",\"number_vmail_messages\",\"total_day_minutes\",\"total_day_calls\",\"total_day_charge\",\"total_eve_minutes\",\"total_eve_calls\",\"total_eve_charge\",\"total_night_minutes\",\"total_night_calls\",\"total_night_charge\",\"total_intl_minutes\",\"total_intl_calls\",\"total_intl_charge\",\"number_customer_service_calls\",\"id_state\",\"area_code_408\",\"area_code_415\",\"area_code_510\",\"id_international_plan\",\"id_voice_mail_plann\",\"class\"]]"
   ]
  },
  {
   "cell_type": "code",
   "execution_count": 121,
   "metadata": {},
   "outputs": [
    {
     "data": {
      "text/html": [
       "<div>\n",
       "<style scoped>\n",
       "    .dataframe tbody tr th:only-of-type {\n",
       "        vertical-align: middle;\n",
       "    }\n",
       "\n",
       "    .dataframe tbody tr th {\n",
       "        vertical-align: top;\n",
       "    }\n",
       "\n",
       "    .dataframe thead th {\n",
       "        text-align: right;\n",
       "    }\n",
       "</style>\n",
       "<table border=\"1\" class=\"dataframe\">\n",
       "  <thead>\n",
       "    <tr style=\"text-align: right;\">\n",
       "      <th></th>\n",
       "      <th>account_length</th>\n",
       "      <th>account_length</th>\n",
       "      <th>number_vmail_messages</th>\n",
       "      <th>total_day_minutes</th>\n",
       "      <th>total_day_calls</th>\n",
       "      <th>total_day_charge</th>\n",
       "      <th>total_eve_minutes</th>\n",
       "      <th>total_eve_calls</th>\n",
       "      <th>total_eve_charge</th>\n",
       "      <th>total_night_minutes</th>\n",
       "      <th>...</th>\n",
       "      <th>total_intl_calls</th>\n",
       "      <th>total_intl_charge</th>\n",
       "      <th>number_customer_service_calls</th>\n",
       "      <th>id_state</th>\n",
       "      <th>area_code_408</th>\n",
       "      <th>area_code_415</th>\n",
       "      <th>area_code_510</th>\n",
       "      <th>id_international_plan</th>\n",
       "      <th>id_voice_mail_plann</th>\n",
       "      <th>class</th>\n",
       "    </tr>\n",
       "  </thead>\n",
       "  <tbody>\n",
       "    <tr>\n",
       "      <th>0</th>\n",
       "      <td>128</td>\n",
       "      <td>128</td>\n",
       "      <td>25</td>\n",
       "      <td>265.1</td>\n",
       "      <td>110</td>\n",
       "      <td>45.07</td>\n",
       "      <td>197.4</td>\n",
       "      <td>99</td>\n",
       "      <td>16.78</td>\n",
       "      <td>244.7</td>\n",
       "      <td>...</td>\n",
       "      <td>3</td>\n",
       "      <td>2.70</td>\n",
       "      <td>1</td>\n",
       "      <td>0</td>\n",
       "      <td>0</td>\n",
       "      <td>1</td>\n",
       "      <td>0</td>\n",
       "      <td>0</td>\n",
       "      <td>1</td>\n",
       "      <td>0</td>\n",
       "    </tr>\n",
       "    <tr>\n",
       "      <th>1</th>\n",
       "      <td>107</td>\n",
       "      <td>107</td>\n",
       "      <td>26</td>\n",
       "      <td>161.6</td>\n",
       "      <td>123</td>\n",
       "      <td>27.47</td>\n",
       "      <td>195.5</td>\n",
       "      <td>103</td>\n",
       "      <td>16.62</td>\n",
       "      <td>254.4</td>\n",
       "      <td>...</td>\n",
       "      <td>3</td>\n",
       "      <td>3.70</td>\n",
       "      <td>1</td>\n",
       "      <td>1</td>\n",
       "      <td>0</td>\n",
       "      <td>1</td>\n",
       "      <td>0</td>\n",
       "      <td>0</td>\n",
       "      <td>1</td>\n",
       "      <td>0</td>\n",
       "    </tr>\n",
       "    <tr>\n",
       "      <th>2</th>\n",
       "      <td>137</td>\n",
       "      <td>137</td>\n",
       "      <td>0</td>\n",
       "      <td>243.4</td>\n",
       "      <td>114</td>\n",
       "      <td>41.38</td>\n",
       "      <td>121.2</td>\n",
       "      <td>110</td>\n",
       "      <td>10.30</td>\n",
       "      <td>162.6</td>\n",
       "      <td>...</td>\n",
       "      <td>5</td>\n",
       "      <td>3.29</td>\n",
       "      <td>0</td>\n",
       "      <td>2</td>\n",
       "      <td>0</td>\n",
       "      <td>1</td>\n",
       "      <td>0</td>\n",
       "      <td>0</td>\n",
       "      <td>0</td>\n",
       "      <td>0</td>\n",
       "    </tr>\n",
       "    <tr>\n",
       "      <th>3</th>\n",
       "      <td>84</td>\n",
       "      <td>84</td>\n",
       "      <td>0</td>\n",
       "      <td>299.4</td>\n",
       "      <td>71</td>\n",
       "      <td>50.90</td>\n",
       "      <td>61.9</td>\n",
       "      <td>88</td>\n",
       "      <td>5.26</td>\n",
       "      <td>196.9</td>\n",
       "      <td>...</td>\n",
       "      <td>7</td>\n",
       "      <td>1.78</td>\n",
       "      <td>2</td>\n",
       "      <td>1</td>\n",
       "      <td>1</td>\n",
       "      <td>0</td>\n",
       "      <td>0</td>\n",
       "      <td>1</td>\n",
       "      <td>0</td>\n",
       "      <td>0</td>\n",
       "    </tr>\n",
       "    <tr>\n",
       "      <th>4</th>\n",
       "      <td>75</td>\n",
       "      <td>75</td>\n",
       "      <td>0</td>\n",
       "      <td>166.7</td>\n",
       "      <td>113</td>\n",
       "      <td>28.34</td>\n",
       "      <td>148.3</td>\n",
       "      <td>122</td>\n",
       "      <td>12.61</td>\n",
       "      <td>186.9</td>\n",
       "      <td>...</td>\n",
       "      <td>3</td>\n",
       "      <td>2.73</td>\n",
       "      <td>3</td>\n",
       "      <td>3</td>\n",
       "      <td>0</td>\n",
       "      <td>1</td>\n",
       "      <td>0</td>\n",
       "      <td>1</td>\n",
       "      <td>0</td>\n",
       "      <td>0</td>\n",
       "    </tr>\n",
       "    <tr>\n",
       "      <th>5</th>\n",
       "      <td>118</td>\n",
       "      <td>118</td>\n",
       "      <td>0</td>\n",
       "      <td>223.4</td>\n",
       "      <td>98</td>\n",
       "      <td>37.98</td>\n",
       "      <td>220.6</td>\n",
       "      <td>101</td>\n",
       "      <td>18.75</td>\n",
       "      <td>203.9</td>\n",
       "      <td>...</td>\n",
       "      <td>6</td>\n",
       "      <td>1.70</td>\n",
       "      <td>0</td>\n",
       "      <td>4</td>\n",
       "      <td>0</td>\n",
       "      <td>0</td>\n",
       "      <td>1</td>\n",
       "      <td>1</td>\n",
       "      <td>0</td>\n",
       "      <td>0</td>\n",
       "    </tr>\n",
       "    <tr>\n",
       "      <th>6</th>\n",
       "      <td>121</td>\n",
       "      <td>121</td>\n",
       "      <td>24</td>\n",
       "      <td>218.2</td>\n",
       "      <td>88</td>\n",
       "      <td>37.09</td>\n",
       "      <td>348.5</td>\n",
       "      <td>108</td>\n",
       "      <td>29.62</td>\n",
       "      <td>212.6</td>\n",
       "      <td>...</td>\n",
       "      <td>7</td>\n",
       "      <td>2.03</td>\n",
       "      <td>3</td>\n",
       "      <td>5</td>\n",
       "      <td>0</td>\n",
       "      <td>0</td>\n",
       "      <td>1</td>\n",
       "      <td>0</td>\n",
       "      <td>1</td>\n",
       "      <td>0</td>\n",
       "    </tr>\n",
       "    <tr>\n",
       "      <th>7</th>\n",
       "      <td>147</td>\n",
       "      <td>147</td>\n",
       "      <td>0</td>\n",
       "      <td>157.0</td>\n",
       "      <td>79</td>\n",
       "      <td>26.69</td>\n",
       "      <td>103.1</td>\n",
       "      <td>94</td>\n",
       "      <td>8.76</td>\n",
       "      <td>211.8</td>\n",
       "      <td>...</td>\n",
       "      <td>6</td>\n",
       "      <td>1.92</td>\n",
       "      <td>0</td>\n",
       "      <td>6</td>\n",
       "      <td>0</td>\n",
       "      <td>1</td>\n",
       "      <td>0</td>\n",
       "      <td>1</td>\n",
       "      <td>0</td>\n",
       "      <td>0</td>\n",
       "    </tr>\n",
       "    <tr>\n",
       "      <th>8</th>\n",
       "      <td>117</td>\n",
       "      <td>117</td>\n",
       "      <td>0</td>\n",
       "      <td>184.5</td>\n",
       "      <td>97</td>\n",
       "      <td>31.37</td>\n",
       "      <td>351.6</td>\n",
       "      <td>80</td>\n",
       "      <td>29.89</td>\n",
       "      <td>215.8</td>\n",
       "      <td>...</td>\n",
       "      <td>4</td>\n",
       "      <td>2.35</td>\n",
       "      <td>1</td>\n",
       "      <td>7</td>\n",
       "      <td>1</td>\n",
       "      <td>0</td>\n",
       "      <td>0</td>\n",
       "      <td>0</td>\n",
       "      <td>0</td>\n",
       "      <td>0</td>\n",
       "    </tr>\n",
       "    <tr>\n",
       "      <th>9</th>\n",
       "      <td>141</td>\n",
       "      <td>141</td>\n",
       "      <td>37</td>\n",
       "      <td>258.6</td>\n",
       "      <td>84</td>\n",
       "      <td>43.96</td>\n",
       "      <td>222.0</td>\n",
       "      <td>111</td>\n",
       "      <td>18.87</td>\n",
       "      <td>326.4</td>\n",
       "      <td>...</td>\n",
       "      <td>5</td>\n",
       "      <td>3.02</td>\n",
       "      <td>0</td>\n",
       "      <td>8</td>\n",
       "      <td>0</td>\n",
       "      <td>1</td>\n",
       "      <td>0</td>\n",
       "      <td>1</td>\n",
       "      <td>1</td>\n",
       "      <td>0</td>\n",
       "    </tr>\n",
       "  </tbody>\n",
       "</table>\n",
       "<p>10 rows × 23 columns</p>\n",
       "</div>"
      ],
      "text/plain": [
       "   account_length  account_length  number_vmail_messages  total_day_minutes  \\\n",
       "0             128             128                     25              265.1   \n",
       "1             107             107                     26              161.6   \n",
       "2             137             137                      0              243.4   \n",
       "3              84              84                      0              299.4   \n",
       "4              75              75                      0              166.7   \n",
       "5             118             118                      0              223.4   \n",
       "6             121             121                     24              218.2   \n",
       "7             147             147                      0              157.0   \n",
       "8             117             117                      0              184.5   \n",
       "9             141             141                     37              258.6   \n",
       "\n",
       "   total_day_calls  total_day_charge  total_eve_minutes  total_eve_calls  \\\n",
       "0              110             45.07              197.4               99   \n",
       "1              123             27.47              195.5              103   \n",
       "2              114             41.38              121.2              110   \n",
       "3               71             50.90               61.9               88   \n",
       "4              113             28.34              148.3              122   \n",
       "5               98             37.98              220.6              101   \n",
       "6               88             37.09              348.5              108   \n",
       "7               79             26.69              103.1               94   \n",
       "8               97             31.37              351.6               80   \n",
       "9               84             43.96              222.0              111   \n",
       "\n",
       "   total_eve_charge  total_night_minutes  ...  total_intl_calls  \\\n",
       "0             16.78                244.7  ...                 3   \n",
       "1             16.62                254.4  ...                 3   \n",
       "2             10.30                162.6  ...                 5   \n",
       "3              5.26                196.9  ...                 7   \n",
       "4             12.61                186.9  ...                 3   \n",
       "5             18.75                203.9  ...                 6   \n",
       "6             29.62                212.6  ...                 7   \n",
       "7              8.76                211.8  ...                 6   \n",
       "8             29.89                215.8  ...                 4   \n",
       "9             18.87                326.4  ...                 5   \n",
       "\n",
       "   total_intl_charge  number_customer_service_calls  id_state  area_code_408  \\\n",
       "0               2.70                              1         0              0   \n",
       "1               3.70                              1         1              0   \n",
       "2               3.29                              0         2              0   \n",
       "3               1.78                              2         1              1   \n",
       "4               2.73                              3         3              0   \n",
       "5               1.70                              0         4              0   \n",
       "6               2.03                              3         5              0   \n",
       "7               1.92                              0         6              0   \n",
       "8               2.35                              1         7              1   \n",
       "9               3.02                              0         8              0   \n",
       "\n",
       "   area_code_415  area_code_510  id_international_plan  id_voice_mail_plann  \\\n",
       "0              1              0                      0                    1   \n",
       "1              1              0                      0                    1   \n",
       "2              1              0                      0                    0   \n",
       "3              0              0                      1                    0   \n",
       "4              1              0                      1                    0   \n",
       "5              0              1                      1                    0   \n",
       "6              0              1                      0                    1   \n",
       "7              1              0                      1                    0   \n",
       "8              0              0                      0                    0   \n",
       "9              1              0                      1                    1   \n",
       "\n",
       "   class  \n",
       "0      0  \n",
       "1      0  \n",
       "2      0  \n",
       "3      0  \n",
       "4      0  \n",
       "5      0  \n",
       "6      0  \n",
       "7      0  \n",
       "8      0  \n",
       "9      0  \n",
       "\n",
       "[10 rows x 23 columns]"
      ]
     },
     "execution_count": 121,
     "metadata": {},
     "output_type": "execute_result"
    }
   ],
   "source": [
    "df_churn_transf.head(10)"
   ]
  },
  {
   "cell_type": "code",
   "execution_count": 122,
   "metadata": {},
   "outputs": [
    {
     "data": {
      "text/plain": [
       "23"
      ]
     },
     "execution_count": 122,
     "metadata": {},
     "output_type": "execute_result"
    }
   ],
   "source": [
    "len(df_churn_transf.columns)"
   ]
  },
  {
   "cell_type": "code",
   "execution_count": 123,
   "metadata": {},
   "outputs": [],
   "source": [
    "colunas = [\"account_length\", \"account_length\",\"number_vmail_messages\",\"total_day_minutes\",\"total_day_calls\",\"total_day_charge\",\"total_eve_minutes\",\"total_eve_calls\",\"total_eve_charge\",\"total_night_minutes\",\"total_night_calls\",\"total_night_charge\",\"total_intl_minutes\",\"total_intl_calls\",\"total_intl_charge\",\"number_customer_service_calls\",\"id_state\",\"area_code_408\",\"area_code_415\",\"area_code_510\",\"id_international_plan\",\"id_voice_mail_plann\",\"class\"]"
   ]
  },
  {
   "cell_type": "code",
   "execution_count": 124,
   "metadata": {},
   "outputs": [
    {
     "data": {
      "image/png": "[encoded data removed]",
      "text/plain": [
       "<Figure size 432x288 with 2 Axes>"
      ]
     },
     "metadata": {
      "needs_background": "light"
     },
     "output_type": "display_data"
    }
   ],
   "source": [
    "# Matriz de Correlação com nomes das variáveis\n",
    "correlations = df_churn_transf.corr()\n",
    "\n",
    "# Plot\n",
    "import numpy as np\n",
    "fig = plt.figure()\n",
    "ax = fig.add_subplot(111)\n",
    "cax = ax.matshow(correlations, vmin = -1, vmax = 1)\n",
    "fig.colorbar(cax)\n",
    "ticks = np.arange(0, 23, 1)\n",
    "ax.set_xticks(ticks)\n",
    "ax.set_yticks(ticks)\n",
    "plt.show()"
   ]
  },
  {
   "cell_type": "code",
   "execution_count": 147,
   "metadata": {},
   "outputs": [
    {
     "data": {
      "text/plain": [
       "Index(['account_length', 'account_length', 'number_vmail_messages',\n",
       "       'total_day_minutes', 'total_day_calls', 'total_day_charge',\n",
       "       'total_eve_minutes', 'total_eve_calls', 'total_eve_charge',\n",
       "       'total_night_minutes', 'total_night_calls', 'total_night_charge',\n",
       "       'total_intl_minutes', 'total_intl_calls', 'total_intl_charge',\n",
       "       'number_customer_service_calls', 'id_state', 'area_code_408',\n",
       "       'area_code_415', 'area_code_510', 'id_international_plan',\n",
       "       'id_voice_mail_plann', 'class'],\n",
       "      dtype='object')"
      ]
     },
     "execution_count": 147,
     "metadata": {},
     "output_type": "execute_result"
    }
   ],
   "source": [
    "df_churn_transf.columns"
   ]
  },
  {
   "cell_type": "code",
   "execution_count": 179,
   "metadata": {},
   "outputs": [],
   "source": [
    "array = df_churn_transf.values\n",
    "X = array[:,0:22]\n",
    "Y = array[:,22]"
   ]
  },
  {
   "cell_type": "code",
   "execution_count": 180,
   "metadata": {},
   "outputs": [
    {
     "name": "stdout",
     "output_type": "stream",
     "text": [
      "Modelo salvo!\n"
     ]
    }
   ],
   "source": [
    "# Criando o modelo\n",
    "modelo = LogisticRegression()\n",
    "\n",
    "# Treinando o modelo\n",
    "modelo.fit(X, Y)\n",
    "\n",
    "# Salvando o modelo\n",
    "arquivo = 'modelo_classificador_final.sav'\n",
    "pickle.dump(modelo, open(arquivo, 'wb'))\n",
    "print(\"Modelo salvo!\")"
   ]
  },
  {
   "cell_type": "code",
   "execution_count": 129,
   "metadata": {},
   "outputs": [],
   "source": [
    "df_churn_test = pd.read_csv(\"projeto4_telecom_teste.csv\")"
   ]
  },
  {
   "cell_type": "code",
   "execution_count": 130,
   "metadata": {},
   "outputs": [],
   "source": [
    "df_churn_test['id_state'] = pd.factorize(df_churn_test.state)[0]"
   ]
  },
  {
   "cell_type": "code",
   "execution_count": 131,
   "metadata": {},
   "outputs": [
    {
     "data": {
      "text/plain": [
       "state  id_state\n",
       "AK     28           52\n",
       "AL     4            80\n",
       "AR     30           55\n",
       "AZ     20           64\n",
       "CA     36           34\n",
       "CO     19           66\n",
       "CT     49           74\n",
       "DC     43           54\n",
       "DE     34           61\n",
       "FL     18           63\n",
       "GA     27           54\n",
       "HI     24           53\n",
       "IA     11           44\n",
       "ID     14           73\n",
       "IL     25           58\n",
       "IN     9            71\n",
       "KS     0            70\n",
       "KY     44           59\n",
       "LA     7            51\n",
       "MA     5            65\n",
       "MD     29           70\n",
       "ME     45           62\n",
       "MI     33           73\n",
       "MN     37           84\n",
       "MO     6            63\n",
       "MS     46           65\n",
       "MT     12           68\n",
       "NC     39           68\n",
       "ND     50           62\n",
       "NE     22           61\n",
       "NH     26           56\n",
       "NJ     2            68\n",
       "NM     41           62\n",
       "NV     42           66\n",
       "NY     13           83\n",
       "OH     1            78\n",
       "OK     3            61\n",
       "OR     32           78\n",
       "PA     48           45\n",
       "RI     10           65\n",
       "SC     21           60\n",
       "SD     38           60\n",
       "TN     47           53\n",
       "TX     17           72\n",
       "UT     35           72\n",
       "VA     16           77\n",
       "VT     15           73\n",
       "WA     40           66\n",
       "WI     31           78\n",
       "WV     8           106\n",
       "WY     23           77\n",
       "dtype: int64"
      ]
     },
     "execution_count": 131,
     "metadata": {},
     "output_type": "execute_result"
    }
   ],
   "source": [
    "df_churn.groupby([\"state\",\"id_state\"]).size()"
   ]
  },
  {
   "cell_type": "code",
   "execution_count": 132,
   "metadata": {},
   "outputs": [],
   "source": [
    "df_churn_test['area_code_408'] = df_churn_test['area_code'].apply(lambda x : 1 if x == 'area_code_408' else 0)\n",
    "df_churn_test['area_code_415'] = df_churn_test['area_code'].apply(lambda x : 1 if x == 'area_code_415' else 0)\n",
    "df_churn_test['area_code_510'] = df_churn_test['area_code'].apply(lambda x : 1 if x == 'area_code_510' else 0)"
   ]
  },
  {
   "cell_type": "code",
   "execution_count": 133,
   "metadata": {},
   "outputs": [],
   "source": [
    "df_churn_test['id_international_plan'] = df_churn_test['international_plan'].apply(lambda x : 1 if x == 'yes' else 0)"
   ]
  },
  {
   "cell_type": "code",
   "execution_count": 134,
   "metadata": {},
   "outputs": [],
   "source": [
    "df_churn_test['id_voice_mail_plann'] = df_churn_test['voice_mail_plan'].apply(lambda x : 1 if x == 'yes' else 0)"
   ]
  },
  {
   "cell_type": "code",
   "execution_count": 135,
   "metadata": {},
   "outputs": [],
   "source": [
    "df_churn_test['class'] = df_churn_test['churn'].apply(lambda x : 1 if x == 'yes' else 0)"
   ]
  },
  {
   "cell_type": "code",
   "execution_count": 136,
   "metadata": {},
   "outputs": [],
   "source": [
    "df_churn_test_transf = df_churn_test[[\"account_length\", \"account_length\",\"number_vmail_messages\",\"total_day_minutes\",\"total_day_calls\",\"total_day_charge\",\"total_eve_minutes\",\"total_eve_calls\",\"total_eve_charge\",\"total_night_minutes\",\"total_night_calls\",\"total_night_charge\",\"total_intl_minutes\",\"total_intl_calls\",\"total_intl_charge\",\"number_customer_service_calls\",\"id_state\",\"area_code_408\",\"area_code_415\",\"area_code_510\",\"id_international_plan\",\"id_voice_mail_plann\",\"class\"]]"
   ]
  },
  {
   "cell_type": "code",
   "execution_count": 183,
   "metadata": {},
   "outputs": [
    {
     "name": "stdout",
     "output_type": "stream",
     "text": [
      "Modelo carregado!\n",
      "Acurácia: 87.343\n"
     ]
    }
   ],
   "source": [
    "array = df_churn_test_transf.values\n",
    "X_teste = array[:,0:22]\n",
    "Y_teste = array[:,22]\n",
    "\n",
    "# Carregando o arquivo\n",
    "modelo_classificador_final = pickle.load(open(arquivo, 'rb'))\n",
    "modelo_prod = modelo_classificador_final.score(X_teste, Y_teste)\n",
    "print(\"Modelo carregado!\")\n",
    "\n",
    "# Print do resultado\n",
    "print(\"Acurácia: %.3f\" % (modelo_prod.mean() * 100))"
   ]
  },
  {
   "cell_type": "code",
   "execution_count": 184,
   "metadata": {},
   "outputs": [
    {
     "name": "stdout",
     "output_type": "stream",
     "text": [
      "[[1415   28]\n",
      " [ 183   41]]\n"
     ]
    }
   ],
   "source": [
    "previsoes = modelo_classificador_final.predict(X_teste)\n",
    "matrix = confusion_matrix(Y_teste, previsoes)\n",
    "\n",
    "# Imprimindo a Confusion Matrix\n",
    "print(matrix)"
   ]
  }
 ],
 "metadata": {
  "kernelspec": {
   "display_name": "Python 3",
   "language": "python",
   "name": "python3"
  },
  "language_info": {
   "codemirror_mode": {
    "name": "ipython",
    "version": 3
   },
   "file_extension": ".py",
   "mimetype": "text/x-python",
   "name": "python",
   "nbconvert_exporter": "python",
   "pygments_lexer": "ipython3",
   "version": "3.7.3"
  }
 },
 "nbformat": 4,
 "nbformat_minor": 2
}
